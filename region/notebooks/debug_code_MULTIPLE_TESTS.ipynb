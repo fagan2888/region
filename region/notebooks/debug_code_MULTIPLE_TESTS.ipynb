{
 "cells": [
  {
   "cell_type": "code",
   "execution_count": 1,
   "metadata": {},
   "outputs": [],
   "source": [
    "%matplotlib inline\n",
    "\n",
    "import geopandas as gpd\n",
    "import numpy as np\n",
    "from pysal.viz.splot.libpysal import plot_spatial_weights\n",
    "from libpysal.weights import Queen, Rook\n",
    "from region.max_p_regions.heuristics import MaxPRegionsHeu\n",
    "from region.p_regions.azp import *\n",
    "from region.csgraph_utils import *\n",
    "import scipy\n",
    "import scipy.sparse.csgraph as csg\n",
    "\n",
    "gdf = gpd.read_file('reg_lat_10_10.shp')\n",
    "\n",
    "np.random.seed(123)\n",
    "gdf['pop'] = np.random.randint(500, high=1000, size=100)\n",
    "np.random.seed(123)\n",
    "gdf['income_pp'] = np.random.uniform(low=50000, high=100000, size=100)\n",
    "\n",
    "w_queen = Queen.from_dataframe(gdf)\n",
    "w_rook = Rook.from_dataframe(gdf)\n",
    "adj = scipy.sparse.csr_matrix(w_rook.full()[0])\n",
    "\n",
    "values_gdf = gdf[['income_pp']]\n",
    "spatially_extensive_attr_gdf = gdf[['pop']].values"
   ]
  },
  {
   "cell_type": "code",
   "execution_count": 2,
   "metadata": {},
   "outputs": [],
   "source": [
    "from joblib import Parallel, delayed\n",
    "import multiprocessing"
   ]
  },
  {
   "cell_type": "markdown",
   "metadata": {},
   "source": [
    "Draw inspiration from https://blog.dominodatalab.com/simple-parallelization/"
   ]
  },
  {
   "cell_type": "code",
   "execution_count": 3,
   "metadata": {},
   "outputs": [],
   "source": [
    "inputs = range(100, 125)\n",
    "threshold = 10000"
   ]
  },
  {
   "cell_type": "code",
   "execution_count": 4,
   "metadata": {},
   "outputs": [],
   "source": [
    "num_cores = multiprocessing.cpu_count()"
   ]
  },
  {
   "cell_type": "code",
   "execution_count": 5,
   "metadata": {},
   "outputs": [
    {
     "name": "stdout",
     "output_type": "stream",
     "text": [
      "Problems in Threshold: False\n",
      "Problems in Contiguity: False\n"
     ]
    }
   ],
   "source": [
    "def processInput(i):\n",
    "    model = MaxPRegionsHeu(local_search = AZP(), random_state=i)\n",
    "    model.fit_from_w(w_rook, values_gdf.values, spatially_extensive_attr_gdf, threshold = threshold)\n",
    "    gdf['labels'] = model.labels_\n",
    "    return [any(gdf.groupby('labels')['pop'].sum() < threshold), not boolean_assert_feasible(gdf['labels'], adj)]\n",
    "     \n",
    "results = Parallel(n_jobs=num_cores)(delayed(processInput)(i) for i in inputs)\n",
    "\n",
    "thr_aux = [l[0] for l in results]\n",
    "con_aux = [l[1] for l in results]\n",
    "\n",
    "print('Problems in Threshold: {}'.format(any(thr_aux)))\n",
    "print('Problems in Contiguity: {}'.format(any(con_aux)))"
   ]
  },
  {
   "cell_type": "code",
   "execution_count": 6,
   "metadata": {},
   "outputs": [],
   "source": [
    "AZP_thr_aux = thr_aux\n",
    "AZP_con_aux = con_aux"
   ]
  },
  {
   "cell_type": "code",
   "execution_count": 7,
   "metadata": {},
   "outputs": [
    {
     "name": "stdout",
     "output_type": "stream",
     "text": [
      "Problems in Threshold: False\n",
      "Problems in Contiguity: False\n"
     ]
    }
   ],
   "source": [
    "def processInput(i):\n",
    "    model = MaxPRegionsHeu(local_search = AZPBasicTabu(), random_state=i)\n",
    "    model.fit_from_w(w_rook, values_gdf.values, spatially_extensive_attr_gdf, threshold = threshold)\n",
    "    gdf['labels'] = model.labels_\n",
    "    return [any(gdf.groupby('labels')['pop'].sum() < threshold), not boolean_assert_feasible(gdf['labels'], adj)]\n",
    "     \n",
    "results = Parallel(n_jobs=num_cores)(delayed(processInput)(i) for i in inputs)\n",
    "\n",
    "thr_aux = [l[0] for l in results]\n",
    "con_aux = [l[1] for l in results]\n",
    "\n",
    "print('Problems in Threshold: {}'.format(any(thr_aux)))\n",
    "print('Problems in Contiguity: {}'.format(any(con_aux)))"
   ]
  },
  {
   "cell_type": "code",
   "execution_count": 8,
   "metadata": {},
   "outputs": [],
   "source": [
    "AZPBasicTabu_thr_aux = thr_aux\n",
    "AZPBasicTabu_con_aux = con_aux"
   ]
  },
  {
   "cell_type": "code",
   "execution_count": 9,
   "metadata": {},
   "outputs": [
    {
     "name": "stdout",
     "output_type": "stream",
     "text": [
      "Problems in Threshold: False\n",
      "Problems in Contiguity: False\n"
     ]
    }
   ],
   "source": [
    "def processInput(i):\n",
    "    model = MaxPRegionsHeu(local_search = AZPReactiveTabu(max_iterations = 2, k1 = 2, k2 = 2), random_state=i)\n",
    "    model.fit_from_w(w_rook, values_gdf.values, spatially_extensive_attr_gdf, threshold = threshold)\n",
    "    gdf['labels'] = model.labels_\n",
    "    return [any(gdf.groupby('labels')['pop'].sum() < threshold), not boolean_assert_feasible(gdf['labels'], adj)]\n",
    "     \n",
    "results = Parallel(n_jobs=num_cores)(delayed(processInput)(i) for i in inputs)\n",
    "\n",
    "thr_aux = [l[0] for l in results]\n",
    "con_aux = [l[1] for l in results]\n",
    "\n",
    "print('Problems in Threshold: {}'.format(any(thr_aux)))\n",
    "print('Problems in Contiguity: {}'.format(any(con_aux)))"
   ]
  },
  {
   "cell_type": "code",
   "execution_count": 10,
   "metadata": {},
   "outputs": [],
   "source": [
    "AZPReactiveTabu_thr_aux = thr_aux\n",
    "AZPReactiveTabu_con_aux = con_aux"
   ]
  },
  {
   "cell_type": "code",
   "execution_count": 11,
   "metadata": {},
   "outputs": [
    {
     "name": "stdout",
     "output_type": "stream",
     "text": [
      "Problems in Threshold: False\n",
      "Problems in Contiguity: False\n"
     ]
    }
   ],
   "source": [
    "def processInput(i):\n",
    "    model = MaxPRegionsHeu(local_search = AZPSimulatedAnnealing(init_temperature=1), random_state=i)\n",
    "    model.fit_from_w(w_rook, values_gdf.values, spatially_extensive_attr_gdf, threshold = threshold)\n",
    "    gdf['labels'] = model.labels_\n",
    "    return [any(gdf.groupby('labels')['pop'].sum() < threshold), not boolean_assert_feasible(gdf['labels'], adj)]\n",
    "     \n",
    "results = Parallel(n_jobs=num_cores)(delayed(processInput)(i) for i in inputs)\n",
    "\n",
    "thr_aux = [l[0] for l in results]\n",
    "con_aux = [l[1] for l in results]\n",
    "\n",
    "print('Problems in Threshold: {}'.format(any(thr_aux)))\n",
    "print('Problems in Contiguity: {}'.format(any(con_aux)))"
   ]
  },
  {
   "cell_type": "code",
   "execution_count": 12,
   "metadata": {},
   "outputs": [],
   "source": [
    "AZPSimulatedAnnealing_thr_aux = thr_aux\n",
    "AZPSimulatedAnnealing_con_aux = con_aux"
   ]
  }
 ],
 "metadata": {
  "kernelspec": {
   "display_name": "Python 3",
   "language": "python",
   "name": "python3"
  },
  "language_info": {
   "codemirror_mode": {
    "name": "ipython",
    "version": 3
   },
   "file_extension": ".py",
   "mimetype": "text/x-python",
   "name": "python",
   "nbconvert_exporter": "python",
   "pygments_lexer": "ipython3",
   "version": "3.6.5"
  }
 },
 "nbformat": 4,
 "nbformat_minor": 2
}
